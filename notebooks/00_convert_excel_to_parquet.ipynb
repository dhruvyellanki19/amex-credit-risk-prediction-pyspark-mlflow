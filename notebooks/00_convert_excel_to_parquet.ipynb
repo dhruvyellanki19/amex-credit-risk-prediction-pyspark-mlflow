{
 "cells": [
  {
   "metadata": {
    "ExecuteTime": {
     "end_time": "2025-04-19T03:03:16.178597Z",
     "start_time": "2025-04-19T03:03:15.016994Z"
    }
   },
   "cell_type": "code",
   "source": [
    "import os\n",
    "import pandas as pd\n",
    "import pyarrow as pa\n",
    "import pyarrow.parquet as pq\n"
   ],
   "id": "11f780839b8e4143",
   "outputs": [],
   "execution_count": 2
  },
  {
   "metadata": {
    "ExecuteTime": {
     "end_time": "2025-04-19T03:13:57.875751Z",
     "start_time": "2025-04-19T03:03:16.187609Z"
    }
   },
   "cell_type": "code",
   "source": [
    "# Make sure the folder exists\n",
    "os.makedirs(\"raw\", exist_ok=True)\n",
    "\n",
    "# Convert train_data.csv\n",
    "df_train = pd.read_csv(r\"C:\\Users\\yhsai\\amex-credit-risk-prediction-pyspark-mlflow\\data\\raw\\train_data.csv\")\n",
    "table = pa.Table.from_pandas(df_train)\n",
    "pq.write_table(table, \"raw/train_data.parquet\")\n",
    "print(\"train_data.parquet created successfully.\")\n"
   ],
   "id": "9646717e8d031c2a",
   "outputs": [
    {
     "name": "stdout",
     "output_type": "stream",
     "text": [
      "train_data.parquet created successfully.\n"
     ]
    }
   ],
   "execution_count": 3
  },
  {
   "metadata": {
    "ExecuteTime": {
     "end_time": "2025-04-19T04:40:37.457563Z",
     "start_time": "2025-04-19T04:40:34.246209Z"
    }
   },
   "cell_type": "code",
   "source": [
    "# Convert train_labels.csv\n",
    "df_labels = pd.read_csv(r\"C:\\Users\\yhsai\\amex-credit-risk-prediction-pyspark-mlflow\\data\\raw\\train_labels.csv\")\n",
    "table = pa.Table.from_pandas(df_labels)\n",
    "pq.write_table(table, \"raw/train_labels.parquet\")\n",
    "print(\"train_labels.parquet created successfully.\")"
   ],
   "id": "58cfe5d897627ec",
   "outputs": [
    {
     "name": "stdout",
     "output_type": "stream",
     "text": [
      "train_labels.parquet created successfully.\n"
     ]
    }
   ],
   "execution_count": 11
  },
  {
   "metadata": {
    "ExecuteTime": {
     "end_time": "2025-04-19T04:52:14.128750Z",
     "start_time": "2025-04-19T04:44:06.759319Z"
    }
   },
   "cell_type": "code",
   "source": [
    "chunksize = 100_000\n",
    "csv_path = r\"C:\\Users\\yhsai\\amex-credit-risk-prediction-pyspark-mlflow\\data\\raw\\test_data.csv\"\n",
    "parquet_path = \"../data/raw/test_data.parquet\"\n",
    "\n",
    "writer = None\n",
    "\n",
    "for chunk in pd.read_csv(csv_path, chunksize=chunksize):\n",
    "    table = pa.Table.from_pandas(chunk)\n",
    "    if writer is None:\n",
    "        writer = pq.ParquetWriter(parquet_path, table.schema)\n",
    "    writer.write_table(table)\n",
    "\n",
    "if writer:\n",
    "    writer.close()\n",
    "\n",
    "print(\"test_data.parquet created successfully.\")"
   ],
   "id": "9594ab31e26e9248",
   "outputs": [
    {
     "name": "stdout",
     "output_type": "stream",
     "text": [
      "test_data.parquet created successfully.\n"
     ]
    }
   ],
   "execution_count": 13
  },
  {
   "metadata": {},
   "cell_type": "code",
   "outputs": [],
   "execution_count": null,
   "source": "",
   "id": "1e0905814b752f99"
  },
  {
   "metadata": {},
   "cell_type": "code",
   "outputs": [],
   "execution_count": null,
   "source": "",
   "id": "d0f7b45a9fdb5c05"
  },
  {
   "metadata": {},
   "cell_type": "code",
   "outputs": [],
   "execution_count": null,
   "source": "",
   "id": "da6870030e993baa"
  }
 ],
 "metadata": {},
 "nbformat": 4,
 "nbformat_minor": 5
}
